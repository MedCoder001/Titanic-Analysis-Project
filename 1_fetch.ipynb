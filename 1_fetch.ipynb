{
 "cells": [
  {
   "cell_type": "markdown",
   "id": "64c7eca1",
   "metadata": {},
   "source": [
    "# Titanic End-to-End Data Analysis Project\n",
    "\n",
    "<div style=\"display: flex; align-items: center; justify-content: space-between; padding: 20px; background-color: #000000ff; border-radius: 10px;\">\n",
    "  \n",
    "  <div style=\"flex: 1; margin-right: 20px;\">\n",
    "    <img src=\"https://upload.wikimedia.org/wikipedia/commons/thumb/6/6d/RMS_Titanic_3_%28cropped_to_ship%29.jpg/500px-RMS_Titanic_3_%28cropped_to_ship%29.jpg\" alt=\"RMS Titanic\" style=\"width: 100%; max-width: 400px; border-radius: 10px; box-shadow: 0 4px 8px rgba(0,0,0,0.2);\">\n",
    "  </div>\n",
    "  \n",
    "  <div style=\"flex: 1; text-align: left;\">\n",
    "    <h2>Titanic Data Analysis Project</h2>\n",
    "    <h3>Data Analyst: Bashir Ibraheem Olamide</h3>\n",
    "    <p><strong>Project Overview:</strong> This project involves an end-to-end analysis of the Titanic dataset, exploring passenger demographics, survival rates, and key factors influencing survival using data cleaning, visualization, and statistical techniques.</p>\n",
    "    <p><strong>Connect with Me:</strong></p>\n",
    "    <div style=\"display: flex; gap: 10px; flex-wrap: wrap;\">\n",
    "      <a href=\"[Your LinkedIn URL]\" target=\"_blank\" style=\"text-decoration: none;\">\n",
    "        <button style=\"background-color: #0077B5; color: white; padding: 10px 20px; border: none; border-radius: 5px; cursor: pointer;\">LinkedIn</button>\n",
    "      </a>\n",
    "      <a href=\"[Your GitHub URL]\" target=\"_blank\" style=\"text-decoration: none;\">\n",
    "        <button style=\"background-color: #333; color: white; padding: 10px 20px; border: none; border-radius: 5px; cursor: pointer;\">GitHub</button>\n",
    "      </a>\n",
    "      <a href=\"[Your Twitter/X URL]\" target=\"_blank\" style=\"text-decoration: none;\">\n",
    "        <button style=\"background-color: #2e2626ff; color: white; padding: 10px 20px; border: none; border-radius: 5px; cursor: pointer;\">X</button>\n",
    "      </a>\n",
    "    </div>\n",
    "    <p><strong>Contact:</strong> ibraheembashir001@gmail.com</p>\n",
    "    <p><strong>Date:</strong> July 26, 2025</p>\n",
    "  </div>\n",
    "</div>"
   ]
  },
  {
   "cell_type": "markdown",
   "id": "a26623d1",
   "metadata": {},
   "source": [
    "## Preparing the Data"
   ]
  },
  {
   "cell_type": "code",
   "execution_count": 2,
   "id": "1f700534",
   "metadata": {},
   "outputs": [
    {
     "name": "stderr",
     "output_type": "stream",
     "text": [
      "Downloading...\n",
      "From: https://drive.google.com/uc?id=15cFsnPnHc7KlzV0C9QQ5wG5v8PWqJ65C\n",
      "To: c:\\Users\\OLAMIDE\\Desktop\\Titanic Analysis Project\\titanic_data.csv\n",
      "100%|██████████| 61.2k/61.2k [00:00<00:00, 315kB/s]"
     ]
    },
    {
     "name": "stdout",
     "output_type": "stream",
     "text": [
      "Data loaded successfully\n",
      "   PassengerId  Survived  Pclass  \\\n",
      "0            1         0       3   \n",
      "1            2         1       1   \n",
      "2            3         1       3   \n",
      "3            4         1       1   \n",
      "4            5         0       3   \n",
      "\n",
      "                                                Name     Sex   Age  SibSp  \\\n",
      "0                            Braund, Mr. Owen Harris    male  22.0      1   \n",
      "1  Cumings, Mrs. John Bradley (Florence Briggs Th...  female  38.0      1   \n",
      "2                             Heikkinen, Miss. Laina  female  26.0      0   \n",
      "3       Futrelle, Mrs. Jacques Heath (Lily May Peel)  female  35.0      1   \n",
      "4                           Allen, Mr. William Henry    male  35.0      0   \n",
      "\n",
      "   Parch            Ticket     Fare Cabin Embarked  \n",
      "0      0         A/5 21171   7.2500   NaN        S  \n",
      "1      0          PC 17599  71.2833   C85        C  \n",
      "2      0  STON/O2. 3101282   7.9250   NaN        S  \n",
      "3      0            113803  53.1000  C123        S  \n",
      "4      0            373450   8.0500   NaN        S  \n"
     ]
    },
    {
     "name": "stderr",
     "output_type": "stream",
     "text": [
      "\n"
     ]
    }
   ],
   "source": [
    "import pandas as pd\n",
    "import gdown\n",
    "from sqlalchemy import create_engine\n",
    "\n",
    "file_id = '15cFsnPnHc7KlzV0C9QQ5wG5v8PWqJ65C'\n",
    "\n",
    "# Download the file\n",
    "download_url = f'https://drive.google.com/uc?id={file_id}'\n",
    "output_file = 'titanic_data.csv'\n",
    "gdown.download(download_url, output_file, quiet=False)\n",
    "\n",
    "df = pd.read_csv(output_file)\n",
    "\n",
    "print(\"Data loaded successfully\")\n",
    "print(df.head())"
   ]
  },
  {
   "cell_type": "code",
   "execution_count": 3,
   "id": "cba1de67",
   "metadata": {},
   "outputs": [
    {
     "name": "stdout",
     "output_type": "stream",
     "text": [
      "✅ Successful!\n"
     ]
    }
   ],
   "source": [
    "# Define PostgreSQL connection\n",
    "db_user = 'postgres'\n",
    "db_password = 'Bashirib001$'\n",
    "db_host = 'localhost'\n",
    "db_port = '5432'\n",
    "db_name = 'titanic_db'\n",
    "\n",
    "# Create a SQLAlchemy engine for PostgreSQL\n",
    "engine = create_engine(f'postgresql+psycopg2://{db_user}:{db_password}@{db_host}:{db_port}/{db_name}')\n",
    "\n",
    "print(\"✅ Successful!\")\n"
   ]
  },
  {
   "cell_type": "code",
   "execution_count": 4,
   "id": "448540c8",
   "metadata": {},
   "outputs": [
    {
     "name": "stdout",
     "output_type": "stream",
     "text": [
      "\n",
      "Dataset Info:\n",
      "<class 'pandas.core.frame.DataFrame'>\n",
      "RangeIndex: 891 entries, 0 to 890\n",
      "Data columns (total 12 columns):\n",
      " #   Column       Non-Null Count  Dtype  \n",
      "---  ------       --------------  -----  \n",
      " 0   PassengerId  891 non-null    int64  \n",
      " 1   Survived     891 non-null    int64  \n",
      " 2   Pclass       891 non-null    int64  \n",
      " 3   Name         891 non-null    object \n",
      " 4   Sex          891 non-null    object \n",
      " 5   Age          714 non-null    float64\n",
      " 6   SibSp        891 non-null    int64  \n",
      " 7   Parch        891 non-null    int64  \n",
      " 8   Ticket       891 non-null    object \n",
      " 9   Fare         891 non-null    float64\n",
      " 10  Cabin        204 non-null    object \n",
      " 11  Embarked     889 non-null    object \n",
      "dtypes: float64(2), int64(5), object(5)\n",
      "memory usage: 83.7+ KB\n",
      "None\n"
     ]
    }
   ],
   "source": [
    "# Load the DataFrame into the PostgreSQL database\n",
    "df.to_sql('titanic_table', engine, if_exists='replace', index=False)\n",
    "\n",
    "connection = engine.connect()\n",
    "\n",
    "# Basic info about the dataset\n",
    "print(\"\\nDataset Info:\")\n",
    "print(df.info())"
   ]
  },
  {
   "cell_type": "code",
   "execution_count": 5,
   "id": "45989cf4",
   "metadata": {},
   "outputs": [],
   "source": [
    "# \n",
    "query = 'SELECT \"PassengerId\", \"Survived\", \"Pclass\", \"Age\", \"Sex\" FROM titanic_table'\n",
    "\n",
    "project_data_df = pd.read_sql(query, connection)"
   ]
  },
  {
   "cell_type": "code",
   "execution_count": 6,
   "id": "074484ad",
   "metadata": {},
   "outputs": [
    {
     "data": {
      "text/html": [
       "<div>\n",
       "<style scoped>\n",
       "    .dataframe tbody tr th:only-of-type {\n",
       "        vertical-align: middle;\n",
       "    }\n",
       "\n",
       "    .dataframe tbody tr th {\n",
       "        vertical-align: top;\n",
       "    }\n",
       "\n",
       "    .dataframe thead th {\n",
       "        text-align: right;\n",
       "    }\n",
       "</style>\n",
       "<table border=\"1\" class=\"dataframe\">\n",
       "  <thead>\n",
       "    <tr style=\"text-align: right;\">\n",
       "      <th></th>\n",
       "      <th>PassengerId</th>\n",
       "      <th>Survived</th>\n",
       "      <th>Pclass</th>\n",
       "      <th>Age</th>\n",
       "      <th>Sex</th>\n",
       "    </tr>\n",
       "  </thead>\n",
       "  <tbody>\n",
       "    <tr>\n",
       "      <th>0</th>\n",
       "      <td>1</td>\n",
       "      <td>0</td>\n",
       "      <td>3</td>\n",
       "      <td>22.0</td>\n",
       "      <td>male</td>\n",
       "    </tr>\n",
       "    <tr>\n",
       "      <th>1</th>\n",
       "      <td>2</td>\n",
       "      <td>1</td>\n",
       "      <td>1</td>\n",
       "      <td>38.0</td>\n",
       "      <td>female</td>\n",
       "    </tr>\n",
       "    <tr>\n",
       "      <th>2</th>\n",
       "      <td>3</td>\n",
       "      <td>1</td>\n",
       "      <td>3</td>\n",
       "      <td>26.0</td>\n",
       "      <td>female</td>\n",
       "    </tr>\n",
       "    <tr>\n",
       "      <th>3</th>\n",
       "      <td>4</td>\n",
       "      <td>1</td>\n",
       "      <td>1</td>\n",
       "      <td>35.0</td>\n",
       "      <td>female</td>\n",
       "    </tr>\n",
       "    <tr>\n",
       "      <th>4</th>\n",
       "      <td>5</td>\n",
       "      <td>0</td>\n",
       "      <td>3</td>\n",
       "      <td>35.0</td>\n",
       "      <td>male</td>\n",
       "    </tr>\n",
       "    <tr>\n",
       "      <th>5</th>\n",
       "      <td>6</td>\n",
       "      <td>0</td>\n",
       "      <td>3</td>\n",
       "      <td>NaN</td>\n",
       "      <td>male</td>\n",
       "    </tr>\n",
       "    <tr>\n",
       "      <th>6</th>\n",
       "      <td>7</td>\n",
       "      <td>0</td>\n",
       "      <td>1</td>\n",
       "      <td>54.0</td>\n",
       "      <td>male</td>\n",
       "    </tr>\n",
       "    <tr>\n",
       "      <th>7</th>\n",
       "      <td>8</td>\n",
       "      <td>0</td>\n",
       "      <td>3</td>\n",
       "      <td>2.0</td>\n",
       "      <td>male</td>\n",
       "    </tr>\n",
       "    <tr>\n",
       "      <th>8</th>\n",
       "      <td>9</td>\n",
       "      <td>1</td>\n",
       "      <td>3</td>\n",
       "      <td>27.0</td>\n",
       "      <td>female</td>\n",
       "    </tr>\n",
       "    <tr>\n",
       "      <th>9</th>\n",
       "      <td>10</td>\n",
       "      <td>1</td>\n",
       "      <td>2</td>\n",
       "      <td>14.0</td>\n",
       "      <td>female</td>\n",
       "    </tr>\n",
       "  </tbody>\n",
       "</table>\n",
       "</div>"
      ],
      "text/plain": [
       "   PassengerId  Survived  Pclass   Age     Sex\n",
       "0            1         0       3  22.0    male\n",
       "1            2         1       1  38.0  female\n",
       "2            3         1       3  26.0  female\n",
       "3            4         1       1  35.0  female\n",
       "4            5         0       3  35.0    male\n",
       "5            6         0       3   NaN    male\n",
       "6            7         0       1  54.0    male\n",
       "7            8         0       3   2.0    male\n",
       "8            9         1       3  27.0  female\n",
       "9           10         1       2  14.0  female"
      ]
     },
     "execution_count": 6,
     "metadata": {},
     "output_type": "execute_result"
    }
   ],
   "source": [
    "project_data_df.head(10)"
   ]
  },
  {
   "cell_type": "code",
   "execution_count": 7,
   "id": "e25e9bb4",
   "metadata": {},
   "outputs": [
    {
     "name": "stdout",
     "output_type": "stream",
     "text": [
      "<class 'pandas.core.frame.DataFrame'>\n",
      "RangeIndex: 891 entries, 0 to 890\n",
      "Data columns (total 5 columns):\n",
      " #   Column       Non-Null Count  Dtype  \n",
      "---  ------       --------------  -----  \n",
      " 0   PassengerId  891 non-null    int64  \n",
      " 1   Survived     891 non-null    int64  \n",
      " 2   Pclass       891 non-null    int64  \n",
      " 3   Age          714 non-null    float64\n",
      " 4   Sex          891 non-null    object \n",
      "dtypes: float64(1), int64(3), object(1)\n",
      "memory usage: 34.9+ KB\n",
      "None\n",
      "       PassengerId    Survived      Pclass         Age\n",
      "count   891.000000  891.000000  891.000000  714.000000\n",
      "mean    446.000000    0.383838    2.308642   29.699118\n",
      "std     257.353842    0.486592    0.836071   14.526497\n",
      "min       1.000000    0.000000    1.000000    0.420000\n",
      "25%     223.500000    0.000000    2.000000   20.125000\n",
      "50%     446.000000    0.000000    3.000000   28.000000\n",
      "75%     668.500000    1.000000    3.000000   38.000000\n",
      "max     891.000000    1.000000    3.000000   80.000000\n",
      "\n",
      " PassengerId      0\n",
      "Survived         0\n",
      "Pclass           0\n",
      "Age            177\n",
      "Sex              0\n",
      "dtype: int64\n"
     ]
    }
   ],
   "source": [
    "print(project_data_df.info())\n",
    "print(project_data_df.describe())\n",
    "print(\"\\n\", project_data_df.isnull().sum())"
   ]
  },
  {
   "cell_type": "code",
   "execution_count": 8,
   "id": "68fd002d",
   "metadata": {},
   "outputs": [
    {
     "name": "stderr",
     "output_type": "stream",
     "text": [
      "C:\\Users\\OLAMIDE\\AppData\\Local\\Temp\\ipykernel_11624\\2673180366.py:3: FutureWarning: A value is trying to be set on a copy of a DataFrame or Series through chained assignment using an inplace method.\n",
      "The behavior will change in pandas 3.0. This inplace method will never work because the intermediate object on which we are setting values always behaves as a copy.\n",
      "\n",
      "For example, when doing 'df[col].method(value, inplace=True)', try using 'df.method({col: value}, inplace=True)' or df[col] = df[col].method(value) instead, to perform the operation inplace on the original object.\n",
      "\n",
      "\n",
      "  project_data_df['Age'].fillna(age_mean, inplace=True)\n"
     ]
    }
   ],
   "source": [
    "age_mean = project_data_df['Age'].mean()\n",
    "\n",
    "project_data_df['Age'].fillna(age_mean, inplace=True)"
   ]
  },
  {
   "cell_type": "code",
   "execution_count": 9,
   "id": "5caee702",
   "metadata": {},
   "outputs": [
    {
     "name": "stdout",
     "output_type": "stream",
     "text": [
      "PassengerId    0\n",
      "Survived       0\n",
      "Pclass         0\n",
      "Age            0\n",
      "Sex            0\n",
      "dtype: int64\n"
     ]
    }
   ],
   "source": [
    "print(project_data_df.isnull().sum())"
   ]
  },
  {
   "cell_type": "code",
   "execution_count": 10,
   "id": "643e9146",
   "metadata": {},
   "outputs": [],
   "source": [
    "project_data_df['Age'] = project_data_df['Age'].round()"
   ]
  },
  {
   "cell_type": "code",
   "execution_count": 11,
   "id": "837fe4aa",
   "metadata": {},
   "outputs": [
    {
     "data": {
      "text/html": [
       "<div>\n",
       "<style scoped>\n",
       "    .dataframe tbody tr th:only-of-type {\n",
       "        vertical-align: middle;\n",
       "    }\n",
       "\n",
       "    .dataframe tbody tr th {\n",
       "        vertical-align: top;\n",
       "    }\n",
       "\n",
       "    .dataframe thead th {\n",
       "        text-align: right;\n",
       "    }\n",
       "</style>\n",
       "<table border=\"1\" class=\"dataframe\">\n",
       "  <thead>\n",
       "    <tr style=\"text-align: right;\">\n",
       "      <th></th>\n",
       "      <th>PassengerId</th>\n",
       "      <th>Survived</th>\n",
       "      <th>Pclass</th>\n",
       "      <th>Age</th>\n",
       "    </tr>\n",
       "  </thead>\n",
       "  <tbody>\n",
       "    <tr>\n",
       "      <th>count</th>\n",
       "      <td>891.000000</td>\n",
       "      <td>891.000000</td>\n",
       "      <td>891.000000</td>\n",
       "      <td>891.000000</td>\n",
       "    </tr>\n",
       "    <tr>\n",
       "      <th>mean</th>\n",
       "      <td>446.000000</td>\n",
       "      <td>0.383838</td>\n",
       "      <td>2.308642</td>\n",
       "      <td>29.754209</td>\n",
       "    </tr>\n",
       "    <tr>\n",
       "      <th>std</th>\n",
       "      <td>257.353842</td>\n",
       "      <td>0.486592</td>\n",
       "      <td>0.836071</td>\n",
       "      <td>13.000828</td>\n",
       "    </tr>\n",
       "    <tr>\n",
       "      <th>min</th>\n",
       "      <td>1.000000</td>\n",
       "      <td>0.000000</td>\n",
       "      <td>1.000000</td>\n",
       "      <td>0.000000</td>\n",
       "    </tr>\n",
       "    <tr>\n",
       "      <th>25%</th>\n",
       "      <td>223.500000</td>\n",
       "      <td>0.000000</td>\n",
       "      <td>2.000000</td>\n",
       "      <td>22.000000</td>\n",
       "    </tr>\n",
       "    <tr>\n",
       "      <th>50%</th>\n",
       "      <td>446.000000</td>\n",
       "      <td>0.000000</td>\n",
       "      <td>3.000000</td>\n",
       "      <td>30.000000</td>\n",
       "    </tr>\n",
       "    <tr>\n",
       "      <th>75%</th>\n",
       "      <td>668.500000</td>\n",
       "      <td>1.000000</td>\n",
       "      <td>3.000000</td>\n",
       "      <td>35.000000</td>\n",
       "    </tr>\n",
       "    <tr>\n",
       "      <th>max</th>\n",
       "      <td>891.000000</td>\n",
       "      <td>1.000000</td>\n",
       "      <td>3.000000</td>\n",
       "      <td>80.000000</td>\n",
       "    </tr>\n",
       "  </tbody>\n",
       "</table>\n",
       "</div>"
      ],
      "text/plain": [
       "       PassengerId    Survived      Pclass         Age\n",
       "count   891.000000  891.000000  891.000000  891.000000\n",
       "mean    446.000000    0.383838    2.308642   29.754209\n",
       "std     257.353842    0.486592    0.836071   13.000828\n",
       "min       1.000000    0.000000    1.000000    0.000000\n",
       "25%     223.500000    0.000000    2.000000   22.000000\n",
       "50%     446.000000    0.000000    3.000000   30.000000\n",
       "75%     668.500000    1.000000    3.000000   35.000000\n",
       "max     891.000000    1.000000    3.000000   80.000000"
      ]
     },
     "execution_count": 11,
     "metadata": {},
     "output_type": "execute_result"
    }
   ],
   "source": [
    "project_data_df.describe()"
   ]
  },
  {
   "cell_type": "code",
   "execution_count": 12,
   "id": "07a77ef8",
   "metadata": {},
   "outputs": [],
   "source": [
    "def categorize_age(age):\n",
    "    if age <= 14:\n",
    "        return 'Children'\n",
    "    elif 15 <= age <= 64:\n",
    "        return 'Youths&Adults'\n",
    "    else:\n",
    "        return 'Seniors'\n",
    "    \n",
    "project_data_df['age_category'] = project_data_df['Age'].apply(categorize_age)"
   ]
  },
  {
   "cell_type": "code",
   "execution_count": 13,
   "id": "63c9ddcf",
   "metadata": {},
   "outputs": [
    {
     "data": {
      "text/plain": [
       "age_category\n",
       "Youths&Adults    802\n",
       "Children          78\n",
       "Seniors           11\n",
       "Name: count, dtype: int64"
      ]
     },
     "execution_count": 13,
     "metadata": {},
     "output_type": "execute_result"
    }
   ],
   "source": [
    "project_data_df['age_category'].value_counts()"
   ]
  },
  {
   "cell_type": "code",
   "execution_count": 14,
   "id": "38180eab",
   "metadata": {},
   "outputs": [
    {
     "name": "stdout",
     "output_type": "stream",
     "text": [
      "Successfully Exported\n"
     ]
    }
   ],
   "source": [
    "# Export data to xlsx\n",
    "project_data_df.to_excel('final.xlsx', index=False)\n",
    "\n",
    "print('Successfully Exported')"
   ]
  },
  {
   "cell_type": "markdown",
   "id": "7dead391",
   "metadata": {},
   "source": []
  },
  {
   "cell_type": "markdown",
   "id": "82cbc639",
   "metadata": {},
   "source": [
    "**Goal**:\n",
    "To see if survival rate had anything to do with the passenger class and to also assess the age as well as the sex of the passengers within each class to identify the vulnerable categories.\n",
    "\n",
    "**Dashboard**:\n",
    "[Titanic Analysis Dashboard](Titanic%20Analysis%20Dashboard.pbix)\n",
    "\n",
    "\n",
    "![Screenshot of Titanic Analysis Dashboard](images\\image.png)\n",
    "\n",
    "**Assessment/Insight**:\n",
    "As part of our ongoing effort to enhance the safety and equity of our ship designs, we conducted an in-depth analysis of the Titanic passenger data to evaluate and minimize survival disparities across passenger classes, age groups, and sexes.\n",
    "\n",
    "The data reveals a significant disparity in survival rates by class. Class 3 passengers experienced the lowest survival rate at 24%, while 491 passengers were in Class 3, only 119 survived, a stark contrast to the total boarding numbers. In contrast, Class 1 passengers had a survival rate of 63%, nearly three times higher than Class 3, underscoring the critical need to address these differences in future designs.\n",
    "\n",
    "Further analysis by age category shows that youths and adults had the highest survival rate in Class 1, while children achieved a notable 10% survival rate in Class 2. However, seniors faced a 0% survival rate across all classes, highlighting a vulnerable group that requires targeted attention. These insights emphasize the urgency of designing ships to ensure equitable safety outcomes, regardless of class, age, or sex, to enhance overall passenger survival in future vessels.\n",
    "\n",
    "Among female passengers, survival rates were generally higher across all classes compared to males. Female passengers in First and Second Class consistently had better outcomes than their male counterparts, reinforcing the importance of prioritized evacuation protocols that were likely in place.\n",
    "\n",
    "**Implication for Ship Design**:\n",
    "\n",
    "As we aim to innovate in shipbuilding, it is imperative that our designs:\n",
    "\n",
    "- Minimize class-based disparities in emergency accessibility,\n",
    "\n",
    "- Ensure equal evacuation opportunities across age groups and sexes, especially children and seniors.\n",
    "\n",
    "- Focus on inclusive safety measures, particularly for vulnerable demographics like seniors and third-class travelers.\n",
    "\n",
    "- Use these insights to initiate further analysis(statistical analysis) to design safer, more equitable vessels for all passengers."
   ]
  },
  {
   "cell_type": "markdown",
   "id": "e3ca9055",
   "metadata": {},
   "source": []
  },
  {
   "cell_type": "markdown",
   "id": "e75abad7",
   "metadata": {},
   "source": []
  }
 ],
 "metadata": {
  "kernelspec": {
   "display_name": "Python 3",
   "language": "python",
   "name": "python3"
  },
  "language_info": {
   "codemirror_mode": {
    "name": "ipython",
    "version": 3
   },
   "file_extension": ".py",
   "mimetype": "text/x-python",
   "name": "python",
   "nbconvert_exporter": "python",
   "pygments_lexer": "ipython3",
   "version": "3.12.3"
  }
 },
 "nbformat": 4,
 "nbformat_minor": 5
}
